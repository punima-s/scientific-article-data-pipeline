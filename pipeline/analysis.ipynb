{
 "cells": [
  {
   "cell_type": "markdown",
   "metadata": {},
   "source": [
    "# Medical Institute Matching Analysis #"
   ]
  },
  {
   "cell_type": "markdown",
   "metadata": {},
   "source": [
    "## Set up ##"
   ]
  },
  {
   "cell_type": "code",
   "execution_count": 1,
   "metadata": {},
   "outputs": [],
   "source": [
    "import pandas as pd\n",
    "from tabulate import tabulate\n",
    "from process import main"
   ]
  },
  {
   "cell_type": "markdown",
   "metadata": {},
   "source": [
    "### Now to get the dataframe:"
   ]
  },
  {
   "cell_type": "code",
   "execution_count": 2,
   "metadata": {},
   "outputs": [
    {
     "name": "stderr",
     "output_type": "stream",
     "text": [
      "100%|██████████| 3551/3551 [14:38<00:00,  4.04it/s]   \n"
     ]
    },
    {
     "name": "stdout",
     "output_type": "stream",
     "text": [
      "      Article_PMID                                      Article_title  \\\n",
      "0         31644467  Common and rare forms of vasculitis associated...   \n",
      "1         31642912  The quantitative assessment of interstitial lu...   \n",
      "2         31642912  The quantitative assessment of interstitial lu...   \n",
      "3         31642912  The quantitative assessment of interstitial lu...   \n",
      "4         31642912  The quantitative assessment of interstitial lu...   \n",
      "...            ...                                                ...   \n",
      "23297     23477430  Primary anetoderma associated with primary Sjö...   \n",
      "23298     23462883  DPP4 inhibitor-induced polyarthritis: a report...   \n",
      "23299     23303389  Lymphoma risk in systemic lupus: effects of di...   \n",
      "23300     23271426  Cryoglobulinemic vasculitis in systemic sclero...   \n",
      "23301     23011161  Refractory thrombotic thrombocytopenic purpura...   \n",
      "\n",
      "                                        Article_keywords  \\\n",
      "0                                                   None   \n",
      "1      [\\n          18F-FDG PET/CT, Systemic sclerosi...   \n",
      "2      [\\n          18F-FDG PET/CT, Systemic sclerosi...   \n",
      "3      [\\n          18F-FDG PET/CT, Systemic sclerosi...   \n",
      "4      [\\n          18F-FDG PET/CT, Systemic sclerosi...   \n",
      "...                                                  ...   \n",
      "23297                                               None   \n",
      "23298                                               None   \n",
      "23299  [Disease Activity, Epidemiology, Systemic Lupu...   \n",
      "23300                                               None   \n",
      "23301                                               None   \n",
      "\n",
      "                                            Article_MESH Article_year  \\\n",
      "0                                                   None         2019   \n",
      "1                                                   None         2019   \n",
      "2                                                   None         2019   \n",
      "3                                                   None         2019   \n",
      "4                                                   None         2019   \n",
      "...                                                  ...          ...   \n",
      "23297  [D057088, D017153, D000928, D002032, D002349, ...         2013   \n",
      "23298  [D000218, D001168, D003924, D018819, D054873, ...         2013   \n",
      "23299  [D000328, D000962, D001379, D016022, D003520, ...         2013   \n",
      "23300  [D000305, D000368, D003449, D003520, D057915, ...         2012   \n",
      "23301  [D058846, D005260, D006801, D007155, D008875, ...         None   \n",
      "\n",
      "      Author_firstname Author_lastname Author_initials  \\\n",
      "0            Ourania D    Argyropoulou              OD   \n",
      "1             Daphne M          Peelen              DM   \n",
      "2            Ben G J C     Zwezerijnen            BGJC   \n",
      "3             Esther J         Nossent              EJ   \n",
      "4             Lilian J        Meijboom              LJ   \n",
      "...                ...             ...             ...   \n",
      "23297                L            Puig               L   \n",
      "23298          Etienne          Crickx               E   \n",
      "23299            Sasha       Bernatsky               S   \n",
      "23300          Predrag         Ostojic               P   \n",
      "23301             Anis          Toumeh               A   \n",
      "\n",
      "              Author_fullname        Author_email  \\\n",
      "0      Ourania d Argyropoulou                None   \n",
      "1             Daphne m Peelen                None   \n",
      "2       Ben g j c Zwezerijnen                None   \n",
      "3            Esther j Nossent                None   \n",
      "4           Lilian j Meijboom                None   \n",
      "...                       ...                 ...   \n",
      "23297                  L Puig                None   \n",
      "23298          Etienne Crickx                None   \n",
      "23299         Sasha Bernatsky                None   \n",
      "23300         Predrag Ostojic  ostojic@vektor.net   \n",
      "23301             Anis Toumeh                None   \n",
      "\n",
      "                                 Affiliation_name_PubMed  \\\n",
      "0      Department of Pathophysiology, School of Medic...   \n",
      "1      Department of Rheumatology, Amsterdam Rheumato...   \n",
      "2          Department of Radiology and Nuclear Medicine.   \n",
      "3      Department of Pulmonary Medicine and Amsterdam...   \n",
      "4          Department of Radiology and Nuclear Medicine.   \n",
      "...                                                  ...   \n",
      "23297  Servicio de Dermatología, Hospital de la Santa...   \n",
      "23298  Service de Médecine Interne, Hôpital Foch, Uni...   \n",
      "23299  Medicine, Division of Clinical Epidemiology, M...   \n",
      "23300  School of Medicine, Institute of Rheumatology,...   \n",
      "23301  1Department of Internal Medicine, University o...   \n",
      "\n",
      "                     Affiliation_name_GRID Affiliation_zipcode  \\\n",
      "0                                     None                None   \n",
      "1                                     None                None   \n",
      "2                                     None                None   \n",
      "3                                     None                None   \n",
      "4                                     None                None   \n",
      "...                                    ...                 ...   \n",
      "23297                                 None                None   \n",
      "23298                                 None                None   \n",
      "23299                                 None                None   \n",
      "23300               University of Belgrade                None   \n",
      "23301  University of Toledo Medical Center                None   \n",
      "\n",
      "      Affiliation_country Affiliation_GRID_identifier  \n",
      "0                  Greece                        None  \n",
      "1                    None                        None  \n",
      "2                    None                        None  \n",
      "3             Netherlands                        None  \n",
      "4                    None                        None  \n",
      "...                   ...                         ...  \n",
      "23297                None                        None  \n",
      "23298              France                        None  \n",
      "23299              Canada                        None  \n",
      "23300              Serbia                        None  \n",
      "23301                None                        None  \n",
      "\n",
      "[23302 rows x 15 columns]\n"
     ]
    }
   ],
   "source": [
    "medical_institution = main(\"PubmedArticle.xml\")\n",
    "print(medical_institution)"
   ]
  },
  {
   "cell_type": "markdown",
   "metadata": {},
   "source": [
    "### Of the all the rows in the table, how many of the Affiliation GRID name was matched successfully?"
   ]
  },
  {
   "cell_type": "code",
   "execution_count": 3,
   "metadata": {},
   "outputs": [
    {
     "name": "stdout",
     "output_type": "stream",
     "text": [
      "11.90026607158184\n"
     ]
    }
   ],
   "source": [
    "aff_value_df = medical_institution[medical_institution['Affiliation_name_PubMed'].notna()]\n",
    "\n",
    "matched_count = aff_value_df[\"Affiliation_name_GRID\"].value_counts().sum()\n",
    "total = len(aff_value_df.index)\n",
    "percentage_matched = (matched_count/total) * 100\n",
    "print(percentage_matched)"
   ]
  },
  {
   "cell_type": "markdown",
   "metadata": {},
   "source": [
    "Only 11.3%"
   ]
  },
  {
   "cell_type": "markdown",
   "metadata": {},
   "source": [
    "### Inspecting the successful Affiliation GRID matches"
   ]
  },
  {
   "cell_type": "code",
   "execution_count": 4,
   "metadata": {},
   "outputs": [
    {
     "name": "stdout",
     "output_type": "stream",
     "text": [
      "+-----+------------------------------------------------------------------------------------------------------------------------------------------------------------------------------------------------------+-------------------------------------------+\n",
      "|     | Affiliation_name_PubMed                                                                                                                                                                              | Affiliation_name_GRID                     |\n",
      "|-----+------------------------------------------------------------------------------------------------------------------------------------------------------------------------------------------------------+-------------------------------------------|\n",
      "|  22 | Rheumatology Unit, Department of Medicine, University of Perugia, Italy.                                                                                                                             | University of Perugia                     |\n",
      "|  27 | Internal Medicine, Endocrinal and Metabolic Science, University of Perugia, Italy.                                                                                                                   | University of Perugia                     |\n",
      "|  28 | Rheumatology Unit, Department of Medicine, University of Perugia, Italy.                                                                                                                             | University of Perugia                     |\n",
      "|  38 | Rheumatology Research Group, Institute of Inflammation and Ageing, University of Birmingham, Birmingham, UK.                                                                                         | University of Birmingham                  |\n",
      "|  39 | Department of Rheumatology and Clinical Immunology, University of Groningen, University Medical Centre Groningen, Groningen, The Netherlands.                                                        | University Medical Center Groningen       |\n",
      "|  45 | Rheumatology Research Group, Institute of Inflammation and Ageing, University of Birmingham, Birmingham, UK.                                                                                         | University of Birmingham                  |\n",
      "|  46 | Department of Rheumatology, Haukeland University Hospital, Norway.                                                                                                                                   | Haukeland University Hospital             |\n",
      "|  47 | Department of Clinical Science - Section for Rheumatology, University of Bergen, Norway.                                                                                                             | University of Bergen                      |\n",
      "|  50 | Institute of Rheumatology, School of Medicine, University of Belgrade, Belgrade, Serbia.                                                                                                             | University of Belgrade                    |\n",
      "|  59 | Department of Oral and Maxillofacial Surgery, University of Groningen, University Medical Centre Groningen, Groningen, The Netherlands.                                                              | University Medical Center Groningen       |\n",
      "| 160 | Center for Clinical and Translational Science, University of Illinois at Chicago, Chicago, IL, USA.                                                                                                  | University of Illinois at Chicago         |\n",
      "| 182 | Rheumatology and Clinical Immunology, University Medical Center Freiburg, Freiburg, Germany.                                                                                                         | University Medical Center Freiburg        |\n",
      "| 187 | Department of Medicine, Division of Cardiology, Consortium for Fibrosis Research and Translation, Anschutz Medical Campus , University of Colorado Denver , Aurora , Colorado 80045 , United States. | University of Colorado Denver             |\n",
      "| 217 | Department of Stomatology, Dental School, University of Sao Paulo, Sao Paulo, Brazil.                                                                                                                | University of Sao Paulo                   |\n",
      "| 219 | Department of Stomatology, Dental School, University of Sao Paulo, Sao Paulo, Brazil.                                                                                                                | University of Sao Paulo                   |\n",
      "| 222 | Department of Stomatology, Dental School, University of Sao Paulo, Sao Paulo, Brazil.                                                                                                                | University of Sao Paulo                   |\n",
      "| 227 | Clinic of Dermatology, University Hospital of Coimbra, Portugal; Faculty of Medicine, University of Coimbra, Coimbra, Portugal. Electronic address: mgoncalo@fmed.uc.pt.                             | University of Coimbra                     |\n",
      "| 238 | Department of Nursing, Affiliated Hospital of Nantong University, 20th Xisi Road, Nantong, 226001, China.                                                                                            | Affiliated Hospital of Nantong University |\n",
      "| 239 | Department of Nursing, Affiliated Hospital of Nantong University, 20th Xisi Road, Nantong, 226001, China.                                                                                            | Affiliated Hospital of Nantong University |\n",
      "| 240 | Department of Nursing, Affiliated Hospital of Nantong University, 20th Xisi Road, Nantong, 226001, China.                                                                                            | Affiliated Hospital of Nantong University |\n",
      "+-----+------------------------------------------------------------------------------------------------------------------------------------------------------------------------------------------------------+-------------------------------------------+\n"
     ]
    }
   ],
   "source": [
    "\n",
    "matches_found_df = aff_value_df[aff_value_df[\"Affiliation_name_GRID\"].notna()]\n",
    "df = matches_found_df[[\"Affiliation_name_PubMed\", \"Affiliation_name_GRID\"]].head(20)\n",
    "print(tabulate(df, headers='keys', tablefmt='psql'))"
   ]
  },
  {
   "cell_type": "markdown",
   "metadata": {},
   "source": [
    "### Inspecting the unsuccessful Affiliation GRID names "
   ]
  },
  {
   "cell_type": "code",
   "execution_count": 11,
   "metadata": {},
   "outputs": [
    {
     "name": "stdout",
     "output_type": "stream",
     "text": [
      "+----+---------------------------------------------------------------------------------------------------------------------------------------------------------------------------------------------------------------------------------------------------------------+-------------------------+-----------------------+\n",
      "|    | Affiliation_name_PubMed                                                                                                                                                                                                                                       | Affiliation_name_GRID   | Affiliation_country   |\n",
      "|----+---------------------------------------------------------------------------------------------------------------------------------------------------------------------------------------------------------------------------------------------------------------+-------------------------+-----------------------|\n",
      "|  0 | Department of Pathophysiology, School of Medicine, National and Kapodistrian University of Athens, Athens, Greece.                                                                                                                                            |                         | Greece                |\n",
      "|  1 | Department of Rheumatology, Amsterdam Rheumatology & Immunology Center.                                                                                                                                                                                       |                         |                       |\n",
      "|  2 | Department of Radiology and Nuclear Medicine.                                                                                                                                                                                                                 |                         |                       |\n",
      "|  3 | Department of Pulmonary Medicine and Amsterdam Cardiovascular Sciences, Amsterdam UMC, Vrije Universiteit, Amsterdam, The Netherlands.                                                                                                                        |                         | Netherlands           |\n",
      "|  4 | Department of Radiology and Nuclear Medicine.                                                                                                                                                                                                                 |                         |                       |\n",
      "|  5 | Department of Radiology and Nuclear Medicine.                                                                                                                                                                                                                 |                         |                       |\n",
      "|  6 | Department of Rheumatology, Amsterdam Rheumatology & Immunology Center.                                                                                                                                                                                       |                         |                       |\n",
      "|  7 | Department of Rheumatology, Amsterdam Rheumatology & Immunology Center.                                                                                                                                                                                       |                         |                       |\n",
      "|  8 | Servicio de Medicina Interna, Hospital Universitario Infanta Sofía, San Sebastián de los Reyes (Madrid), España. Electronic address: gonzaloserralta@mac.com.                                                                                                 |                         |                       |\n",
      "|  9 | Servicio de Medicina Interna, Hospital Universitario de Fuenlabrada, Fuenlabrada (Madrid), España.                                                                                                                                                            |                         |                       |\n",
      "| 10 | Department of Ophthalmology, Østfold Hospital, Grålum, Norway.                                                                                                                                                                                                |                         | Norway                |\n",
      "| 11 | Clinical Immunology Unit, Department of Internal Medicine, Stavanger University Hospital, Stavanger, Norway.                                                                                                                                                  |                         | Norway                |\n",
      "| 12 | Department of Ophthalmology, Haukeland University Hospital, Bergen, Norway; Department of Clinical Medicine, University of Bergen, Bergen, Norway.                                                                                                            |                         | Norway                |\n",
      "| 13 | Broegelmann Research Laboratory, Department of Clinical Science, University of Bergen, Bergen, Norway; Department of Rheumatology, Haukeland University Hospital, Bergen, Norway.                                                                             |                         | Norway                |\n",
      "| 14 | Clinical Immunology Unit, Department of Internal Medicine, Stavanger University Hospital, Stavanger, Norway; Broegelmann Research Laboratory, Department of Clinical Science, University of Bergen, Bergen, Norway. Electronic address: roald.omdal@lyse.net. |                         | Norway                |\n",
      "| 15 | Department of Neurology, Renmin Hospital, Wuhan University, Wuhan, China.                                                                                                                                                                                     |                         | China                 |\n",
      "| 16 | Department of Neurology, Renmin Hospital, Wuhan University, Wuhan, China.                                                                                                                                                                                     |                         | China                 |\n",
      "| 17 | Department of Neurology, Renmin Hospital, Wuhan University, Wuhan, China.                                                                                                                                                                                     |                         | China                 |\n",
      "| 18 | Department of Neurology, Renmin Hospital, Wuhan University, Wuhan, China.                                                                                                                                                                                     |                         | China                 |\n",
      "| 19 | Department of Orthopedic, Wuhan Fourth Hospital, Wuhan, China.                                                                                                                                                                                                |                         | China                 |\n",
      "+----+---------------------------------------------------------------------------------------------------------------------------------------------------------------------------------------------------------------------------------------------------------------+-------------------------+-----------------------+\n"
     ]
    }
   ],
   "source": [
    "no_grid_found_df = aff_value_df[aff_value_df[\"Affiliation_name_GRID\"].isna()]\n",
    "df = no_grid_found_df[[\"Affiliation_name_PubMed\",\n",
    "                       \"Affiliation_name_GRID\", \"Affiliation_country\"]].head(20)\n",
    "print(tabulate(df, headers='keys', tablefmt='psql'))"
   ]
  },
  {
   "cell_type": "markdown",
   "metadata": {},
   "source": [
    "### Inspecting institutes.csv file"
   ]
  },
  {
   "cell_type": "code",
   "execution_count": 12,
   "metadata": {},
   "outputs": [
    {
     "name": "stdout",
     "output_type": "stream",
     "text": [
      "Australian National University\n"
     ]
    }
   ],
   "source": [
    "from os import environ\n",
    "from dotenv import load_dotenv\n",
    "from process import load_grid_institute_names\n",
    "\n",
    "load_dotenv()\n",
    "institutes = load_grid_institute_names(environ[\"GRID_INSTITUTE_FILEPATH\"])\n",
    "print(institutes[0])"
   ]
  },
  {
   "cell_type": "markdown",
   "metadata": {},
   "source": [
    "Now lets have a look at some of the university names in Affiliation_name_PubMed for those without a match.\n",
    "For example, lets use first row which mentions University of Athens in the column.\n",
    "Let's check whether that unsuccessful match was because the institute is not in the csv file."
   ]
  },
  {
   "cell_type": "code",
   "execution_count": 13,
   "metadata": {},
   "outputs": [
    {
     "name": "stdout",
     "output_type": "stream",
     "text": [
      "['National Technical University of Athens', 'National and Kapodistrian University of Athens', 'Agricultural University of Athens']\n"
     ]
    }
   ],
   "source": [
    "is_institute_exist = [institute for institute in institutes if 'University of Athens'.lower() in institute.lower()]\n",
    "print(is_institute_exist)"
   ]
  },
  {
   "cell_type": "markdown",
   "metadata": {},
   "source": [
    "There are 3 different institutes with 'University of Athens' included. \n",
    "One of them is the 'National and Kapodistrian University of Athens'.\n",
    "This should've been the exact match to the first row's Affiliation_name_PubMed value' Department of Pathophysiology, School of Medicine, National and Kapodistrian University of Athens, Athens, Greece.  '.\n",
    "Similar issue occurs for rows with Affiliation_name_PubMed value that include 'Wuhan University'."
   ]
  }
 ],
 "metadata": {
  "kernelspec": {
   "display_name": ".venv",
   "language": "python",
   "name": "python3"
  },
  "language_info": {
   "codemirror_mode": {
    "name": "ipython",
    "version": 3
   },
   "file_extension": ".py",
   "mimetype": "text/x-python",
   "name": "python",
   "nbconvert_exporter": "python",
   "pygments_lexer": "ipython3",
   "version": "3.12.4"
  }
 },
 "nbformat": 4,
 "nbformat_minor": 2
}
