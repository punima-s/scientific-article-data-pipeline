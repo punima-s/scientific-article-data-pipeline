{
 "cells": [
  {
   "cell_type": "markdown",
   "metadata": {},
   "source": [
    "# Medical Institute Matching Analysis #"
   ]
  },
  {
   "cell_type": "markdown",
   "metadata": {},
   "source": [
    "## Set up ##"
   ]
  },
  {
   "cell_type": "code",
   "execution_count": 1,
   "metadata": {},
   "outputs": [
    {
     "name": "stderr",
     "output_type": "stream",
     "text": [
      "/Users/punimashahi/Coursework-Data-Engineering-Week-5/.venv/lib/python3.9/site-packages/urllib3/__init__.py:35: NotOpenSSLWarning: urllib3 v2 only supports OpenSSL 1.1.1+, currently the 'ssl' module is compiled with 'LibreSSL 2.8.3'. See: https://github.com/urllib3/urllib3/issues/3020\n",
      "  warnings.warn(\n"
     ]
    }
   ],
   "source": [
    "import pandas as pd\n",
    "from tabulate import tabulate\n",
    "from process import main"
   ]
  },
  {
   "cell_type": "markdown",
   "metadata": {},
   "source": [
    "### Now to get the dataframe:"
   ]
  },
  {
   "cell_type": "code",
   "execution_count": 2,
   "metadata": {},
   "outputs": [
    {
     "name": "stderr",
     "output_type": "stream",
     "text": [
      "100%|██████████| 3551/3551 [10:42<00:00,  5.53it/s]\n"
     ]
    },
    {
     "name": "stdout",
     "output_type": "stream",
     "text": [
      "      Article_PMID                                      Article_title  \\\n",
      "0         31644467  Common and rare forms of vasculitis associated...   \n",
      "1         31644467  Common and rare forms of vasculitis associated...   \n",
      "2         31642912  The quantitative assessment of interstitial lu...   \n",
      "3         31642912  The quantitative assessment of interstitial lu...   \n",
      "4         31642912  The quantitative assessment of interstitial lu...   \n",
      "...            ...                                                ...   \n",
      "26573     23271426  Cryoglobulinemic vasculitis in systemic sclero...   \n",
      "26574     23011161  Refractory thrombotic thrombocytopenic purpura...   \n",
      "26575     23011161  Refractory thrombotic thrombocytopenic purpura...   \n",
      "26576     23011161  Refractory thrombotic thrombocytopenic purpura...   \n",
      "26577     23011161  Refractory thrombotic thrombocytopenic purpura...   \n",
      "\n",
      "                                        Article_keywords  \\\n",
      "0                                                   None   \n",
      "1                                                   None   \n",
      "2      [\\n          18F-FDG PET/CT, Systemic sclerosi...   \n",
      "3      [\\n          18F-FDG PET/CT, Systemic sclerosi...   \n",
      "4      [\\n          18F-FDG PET/CT, Systemic sclerosi...   \n",
      "...                                                  ...   \n",
      "26573                                               None   \n",
      "26574                                               None   \n",
      "26575                                               None   \n",
      "26576                                               None   \n",
      "26577                                               None   \n",
      "\n",
      "                                            Article_MESH Article_year  \\\n",
      "0                                                   None         2019   \n",
      "1                                                   None         2019   \n",
      "2                                                   None         2019   \n",
      "3                                                   None         2019   \n",
      "4                                                   None         2019   \n",
      "...                                                  ...          ...   \n",
      "26573  [D000305, D000368, D003449, D003520, D057915, ...         2012   \n",
      "26574  [D058846, D005260, D006801, D007155, D008875, ...         None   \n",
      "26575  [D058846, D005260, D006801, D007155, D008875, ...         None   \n",
      "26576  [D058846, D005260, D006801, D007155, D008875, ...         None   \n",
      "26577  [D058846, D005260, D006801, D007155, D008875, ...         None   \n",
      "\n",
      "      Author_firstname Author_lastname Author_initials  \\\n",
      "0            Ourania D    Argyropoulou              OD   \n",
      "1         Athanasios G        Tzioufas              AG   \n",
      "2             Daphne M          Peelen              DM   \n",
      "3            Ben G J C     Zwezerijnen            BGJC   \n",
      "4             Esther J         Nossent              EJ   \n",
      "...                ...             ...             ...   \n",
      "26573          Predrag         Ostojic               P   \n",
      "26574             Anis          Toumeh               A   \n",
      "26575         Navpreet            Josh               N   \n",
      "26576            Rawan          Narwal               R   \n",
      "26577           Ragheb          Assaly               R   \n",
      "\n",
      "              Author_fullname        Author_email  \\\n",
      "0      Ourania d Argyropoulou                None   \n",
      "1       Athanasios g Tzioufas                None   \n",
      "2             Daphne m Peelen                None   \n",
      "3       Ben g j c Zwezerijnen                None   \n",
      "4            Esther j Nossent                None   \n",
      "...                       ...                 ...   \n",
      "26573         Predrag Ostojic  ostojic@vektor.net   \n",
      "26574             Anis Toumeh                None   \n",
      "26575           Navpreet Josh                None   \n",
      "26576            Rawan Narwal                None   \n",
      "26577           Ragheb Assaly                None   \n",
      "\n",
      "                                 Affiliation_name_PubMed  \\\n",
      "0      Department of Pathophysiology, School of Medic...   \n",
      "1                                                   None   \n",
      "2      Department of Rheumatology, Amsterdam Rheumato...   \n",
      "3          Department of Radiology and Nuclear Medicine.   \n",
      "4      Department of Pulmonary Medicine and Amsterdam...   \n",
      "...                                                  ...   \n",
      "26573  School of Medicine, Institute of Rheumatology,...   \n",
      "26574  1Department of Internal Medicine, University o...   \n",
      "26575                                               None   \n",
      "26576                                               None   \n",
      "26577                                               None   \n",
      "\n",
      "                     Affiliation_name_GRID Affiliation_zipcode  \\\n",
      "0                                     None                None   \n",
      "1                                     None                None   \n",
      "2                                     None                None   \n",
      "3                                     None                None   \n",
      "4                                     None                None   \n",
      "...                                    ...                 ...   \n",
      "26573               University of Belgrade                None   \n",
      "26574  University of Toledo Medical Center                None   \n",
      "26575                                 None                None   \n",
      "26576                                 None                None   \n",
      "26577                                 None                None   \n",
      "\n",
      "      Affiliation_country Affiliation_GRID_identifier  \n",
      "0                  Greece                        None  \n",
      "1                    None                        None  \n",
      "2                    None                        None  \n",
      "3                    None                        None  \n",
      "4             Netherlands                        None  \n",
      "...                   ...                         ...  \n",
      "26573              Serbia                        None  \n",
      "26574                None                        None  \n",
      "26575                None                        None  \n",
      "26576                None                        None  \n",
      "26577                None                        None  \n",
      "\n",
      "[26578 rows x 15 columns]\n"
     ]
    }
   ],
   "source": [
    "medical_institution = main(\"PubmedArticle.xml\")\n",
    "print(medical_institution)"
   ]
  },
  {
   "cell_type": "markdown",
   "metadata": {},
   "source": [
    "### Of the all the rows in the table, how many of the Affiliation GRID name was matched successfully?"
   ]
  },
  {
   "cell_type": "code",
   "execution_count": 4,
   "metadata": {},
   "outputs": [
    {
     "name": "stdout",
     "output_type": "stream",
     "text": [
      "11.90026607158184\n"
     ]
    }
   ],
   "source": [
    "aff_value_df = medical_institution[medical_institution['Affiliation_name_PubMed'].notna()]\n",
    "\n",
    "matched_count = aff_value_df[\"Affiliation_name_GRID\"].value_counts().sum()\n",
    "total = len(aff_value_df.index)\n",
    "percentage_matched = (matched_count/total) * 100\n",
    "print(percentage_matched)"
   ]
  },
  {
   "cell_type": "markdown",
   "metadata": {},
   "source": [
    "Only 11.3%"
   ]
  },
  {
   "cell_type": "markdown",
   "metadata": {},
   "source": [
    "### Inspecting the successful Affiliation GRID matches"
   ]
  },
  {
   "cell_type": "code",
   "execution_count": 5,
   "metadata": {},
   "outputs": [
    {
     "name": "stdout",
     "output_type": "stream",
     "text": [
      "+-----+------------------------------------------------------------------------------------------------------------------------------------------------------------------------------------------------------+-------------------------------------------+\n",
      "|     | Affiliation_name_PubMed                                                                                                                                                                              | Affiliation_name_GRID                     |\n",
      "|-----+------------------------------------------------------------------------------------------------------------------------------------------------------------------------------------------------------+-------------------------------------------|\n",
      "|  24 | Rheumatology Unit, Department of Medicine, University of Perugia, Italy.                                                                                                                             | University of Perugia                     |\n",
      "|  29 | Internal Medicine, Endocrinal and Metabolic Science, University of Perugia, Italy.                                                                                                                   | University of Perugia                     |\n",
      "|  30 | Rheumatology Unit, Department of Medicine, University of Perugia, Italy.                                                                                                                             | University of Perugia                     |\n",
      "|  40 | Rheumatology Research Group, Institute of Inflammation and Ageing, University of Birmingham, Birmingham, UK.                                                                                         | University of Birmingham                  |\n",
      "|  41 | Department of Rheumatology and Clinical Immunology, University of Groningen, University Medical Centre Groningen, Groningen, The Netherlands.                                                        | University Medical Center Groningen       |\n",
      "|  47 | Rheumatology Research Group, Institute of Inflammation and Ageing, University of Birmingham, Birmingham, UK.                                                                                         | University of Birmingham                  |\n",
      "|  48 | Department of Rheumatology, Haukeland University Hospital, Norway.                                                                                                                                   | Haukeland University Hospital             |\n",
      "|  49 | Department of Clinical Science - Section for Rheumatology, University of Bergen, Norway.                                                                                                             | University of Bergen                      |\n",
      "|  52 | Institute of Rheumatology, School of Medicine, University of Belgrade, Belgrade, Serbia.                                                                                                             | University of Belgrade                    |\n",
      "|  61 | Department of Oral and Maxillofacial Surgery, University of Groningen, University Medical Centre Groningen, Groningen, The Netherlands.                                                              | University Medical Center Groningen       |\n",
      "| 163 | Center for Clinical and Translational Science, University of Illinois at Chicago, Chicago, IL, USA.                                                                                                  | University of Illinois at Chicago         |\n",
      "| 185 | Rheumatology and Clinical Immunology, University Medical Center Freiburg, Freiburg, Germany.                                                                                                         | University Medical Center Freiburg        |\n",
      "| 191 | Department of Medicine, Division of Cardiology, Consortium for Fibrosis Research and Translation, Anschutz Medical Campus , University of Colorado Denver , Aurora , Colorado 80045 , United States. | University of Colorado Denver             |\n",
      "| 221 | Department of Stomatology, Dental School, University of Sao Paulo, Sao Paulo, Brazil.                                                                                                                | University of Sao Paulo                   |\n",
      "| 223 | Department of Stomatology, Dental School, University of Sao Paulo, Sao Paulo, Brazil.                                                                                                                | University of Sao Paulo                   |\n",
      "| 226 | Department of Stomatology, Dental School, University of Sao Paulo, Sao Paulo, Brazil.                                                                                                                | University of Sao Paulo                   |\n",
      "| 231 | Clinic of Dermatology, University Hospital of Coimbra, Portugal; Faculty of Medicine, University of Coimbra, Coimbra, Portugal. Electronic address: mgoncalo@fmed.uc.pt.                             | University of Coimbra                     |\n",
      "| 242 | Department of Nursing, Affiliated Hospital of Nantong University, 20th Xisi Road, Nantong, 226001, China.                                                                                            | Affiliated Hospital of Nantong University |\n",
      "| 243 | Department of Nursing, Affiliated Hospital of Nantong University, 20th Xisi Road, Nantong, 226001, China.                                                                                            | Affiliated Hospital of Nantong University |\n",
      "| 244 | Department of Nursing, Affiliated Hospital of Nantong University, 20th Xisi Road, Nantong, 226001, China.                                                                                            | Affiliated Hospital of Nantong University |\n",
      "+-----+------------------------------------------------------------------------------------------------------------------------------------------------------------------------------------------------------+-------------------------------------------+\n"
     ]
    }
   ],
   "source": [
    "\n",
    "matches_found_df = aff_value_df[aff_value_df[\"Affiliation_name_GRID\"].notna()]\n",
    "df = matches_found_df[[\"Affiliation_name_PubMed\", \"Affiliation_name_GRID\"]].head(20)\n",
    "print(tabulate(df, headers='keys', tablefmt='psql'))"
   ]
  },
  {
   "cell_type": "markdown",
   "metadata": {},
   "source": [
    "### Inspecting the unsuccessful Affiliation GRID names "
   ]
  },
  {
   "cell_type": "code",
   "execution_count": 6,
   "metadata": {},
   "outputs": [
    {
     "name": "stdout",
     "output_type": "stream",
     "text": [
      "+----+---------------------------------------------------------------------------------------------------------------------------------------------------------------------------------------------------------------------------------------------------------------+-------------------------+\n",
      "|    | Affiliation_name_PubMed                                                                                                                                                                                                                                       | Affiliation_name_GRID   |\n",
      "|----+---------------------------------------------------------------------------------------------------------------------------------------------------------------------------------------------------------------------------------------------------------------+-------------------------|\n",
      "|  0 | Department of Pathophysiology, School of Medicine, National and Kapodistrian University of Athens, Athens, Greece.                                                                                                                                            |                         |\n",
      "|  2 | Department of Rheumatology, Amsterdam Rheumatology & Immunology Center.                                                                                                                                                                                       |                         |\n",
      "|  3 | Department of Radiology and Nuclear Medicine.                                                                                                                                                                                                                 |                         |\n",
      "|  4 | Department of Pulmonary Medicine and Amsterdam Cardiovascular Sciences, Amsterdam UMC, Vrije Universiteit, Amsterdam, The Netherlands.                                                                                                                        |                         |\n",
      "|  5 | Department of Radiology and Nuclear Medicine.                                                                                                                                                                                                                 |                         |\n",
      "|  6 | Department of Radiology and Nuclear Medicine.                                                                                                                                                                                                                 |                         |\n",
      "|  7 | Department of Rheumatology, Amsterdam Rheumatology & Immunology Center.                                                                                                                                                                                       |                         |\n",
      "|  8 | Department of Rheumatology, Amsterdam Rheumatology & Immunology Center.                                                                                                                                                                                       |                         |\n",
      "|  9 | Servicio de Medicina Interna, Hospital Universitario Infanta Sofía, San Sebastián de los Reyes (Madrid), España. Electronic address: gonzaloserralta@mac.com.                                                                                                 |                         |\n",
      "| 10 | Servicio de Medicina Interna, Hospital Universitario de Fuenlabrada, Fuenlabrada (Madrid), España.                                                                                                                                                            |                         |\n",
      "| 12 | Department of Ophthalmology, Østfold Hospital, Grålum, Norway.                                                                                                                                                                                                |                         |\n",
      "| 13 | Clinical Immunology Unit, Department of Internal Medicine, Stavanger University Hospital, Stavanger, Norway.                                                                                                                                                  |                         |\n",
      "| 14 | Department of Ophthalmology, Haukeland University Hospital, Bergen, Norway; Department of Clinical Medicine, University of Bergen, Bergen, Norway.                                                                                                            |                         |\n",
      "| 15 | Broegelmann Research Laboratory, Department of Clinical Science, University of Bergen, Bergen, Norway; Department of Rheumatology, Haukeland University Hospital, Bergen, Norway.                                                                             |                         |\n",
      "| 16 | Clinical Immunology Unit, Department of Internal Medicine, Stavanger University Hospital, Stavanger, Norway; Broegelmann Research Laboratory, Department of Clinical Science, University of Bergen, Bergen, Norway. Electronic address: roald.omdal@lyse.net. |                         |\n",
      "| 17 | Department of Neurology, Renmin Hospital, Wuhan University, Wuhan, China.                                                                                                                                                                                     |                         |\n",
      "| 18 | Department of Neurology, Renmin Hospital, Wuhan University, Wuhan, China.                                                                                                                                                                                     |                         |\n",
      "| 19 | Department of Neurology, Renmin Hospital, Wuhan University, Wuhan, China.                                                                                                                                                                                     |                         |\n",
      "| 20 | Department of Neurology, Renmin Hospital, Wuhan University, Wuhan, China.                                                                                                                                                                                     |                         |\n",
      "| 21 | Department of Orthopedic, Wuhan Fourth Hospital, Wuhan, China.                                                                                                                                                                                                |                         |\n",
      "+----+---------------------------------------------------------------------------------------------------------------------------------------------------------------------------------------------------------------------------------------------------------------+-------------------------+\n"
     ]
    }
   ],
   "source": [
    "no_grid_found_df = aff_value_df[aff_value_df[\"Affiliation_name_GRID\"].isna()]\n",
    "df = no_grid_found_df[[\"Affiliation_name_PubMed\",\n",
    "                       \"Affiliation_name_GRID\"]].head(20)\n",
    "print(tabulate(df, headers='keys', tablefmt='psql'))"
   ]
  }
 ],
 "metadata": {
  "kernelspec": {
   "display_name": ".venv",
   "language": "python",
   "name": "python3"
  },
  "language_info": {
   "codemirror_mode": {
    "name": "ipython",
    "version": 3
   },
   "file_extension": ".py",
   "mimetype": "text/x-python",
   "name": "python",
   "nbconvert_exporter": "python",
   "pygments_lexer": "ipython3",
   "version": "3.9.6"
  }
 },
 "nbformat": 4,
 "nbformat_minor": 2
}
